{
 "cells": [
  {
   "cell_type": "markdown",
   "id": "ef5988f8-9ebf-4714-8586-f8966ce35b5d",
   "metadata": {
    "tags": []
   },
   "source": [
    "# Data Science Tools and Ecosystem"
   ]
  },
  {
   "cell_type": "markdown",
   "id": "94cf46da-17c2-4f60-98dc-d714e1be5a38",
   "metadata": {},
   "source": [
    "## Author\n",
    "Lloyd Forbes"
   ]
  },
  {
   "cell_type": "markdown",
   "id": "b48f7f09-f824-468c-a968-6a2cca83083b",
   "metadata": {},
   "source": [
    "## In this notebook, Data Science Tools and Ecosystems are summarized."
   ]
  },
  {
   "cell_type": "markdown",
   "id": "2abaac59-8f42-4fcd-be2d-a32be639f2f9",
   "metadata": {},
   "source": [
    "**Objectives:**\n",
    "\n",
    "- Create a list of popular Data Science Languages\n",
    "- Create a list of commonly used Data Science Libraries\n",
    "- Create a table of common Data Science Tools\n",
    "- Show some common arithemtic expressions"
   ]
  },
  {
   "cell_type": "markdown",
   "id": "912d7080-24a6-4757-82ad-962239218c7d",
   "metadata": {},
   "source": [
    "## Some of the popular languages that Data Scientists use are:\n",
    "1. Python\n",
    "2. SQL\n",
    "3. R"
   ]
  },
  {
   "cell_type": "markdown",
   "id": "45877ef1-f851-4e80-9626-217981eba1e5",
   "metadata": {},
   "source": [
    "## Some of the commonly used libraries use by Data Scientists include:\n",
    "1. Pandas\n",
    "2. Numpy\n",
    "3. Matplotlib\n",
    "4. Keras"
   ]
  },
  {
   "cell_type": "markdown",
   "id": "b6bac325-0dbb-430b-859e-d2b49ea023f8",
   "metadata": {},
   "source": [
    "## Data Science Tools Table\n",
    "|Data Science Tools|\n",
    "|----------|\n",
    "|Apache Spark|\n",
    "|RStudio|\n",
    "|Jupyter Notebook|"
   ]
  },
  {
   "cell_type": "markdown",
   "id": "06ebacc9-70e2-4b4c-84c9-bbdba40d020f",
   "metadata": {},
   "source": [
    "### Below are a few examples of evaluating arithmetic expressions in Python"
   ]
  },
  {
   "cell_type": "code",
   "execution_count": 2,
   "id": "3cff3ad6-f1c2-4758-821f-63d06c28e206",
   "metadata": {
    "tags": []
   },
   "outputs": [
    {
     "data": {
      "text/plain": [
       "17"
      ]
     },
     "execution_count": 2,
     "metadata": {},
     "output_type": "execute_result"
    }
   ],
   "source": [
    "# This a simple arithmetic expression to mutiply then add integers\n",
    "(3*4)+5"
   ]
  },
  {
   "cell_type": "code",
   "execution_count": 3,
   "id": "d710f83a-b20a-49e9-b340-3b2c6f3096a6",
   "metadata": {
    "tags": []
   },
   "outputs": [
    {
     "data": {
      "text/plain": [
       "3.3333333333333335"
      ]
     },
     "execution_count": 3,
     "metadata": {},
     "output_type": "execute_result"
    }
   ],
   "source": [
    "# This will convert 200 minutes to hours by diving by 60\n",
    "200/60"
   ]
  },
  {
   "cell_type": "code",
   "execution_count": null,
   "id": "e0996f8a-69a4-4e71-b1e5-0af73a95d490",
   "metadata": {},
   "outputs": [],
   "source": []
  }
 ],
 "metadata": {
  "kernelspec": {
   "display_name": "Python",
   "language": "python",
   "name": "conda-env-python-py"
  },
  "language_info": {
   "codemirror_mode": {
    "name": "ipython",
    "version": 3
   },
   "file_extension": ".py",
   "mimetype": "text/x-python",
   "name": "python",
   "nbconvert_exporter": "python",
   "pygments_lexer": "ipython3",
   "version": "3.7.12"
  }
 },
 "nbformat": 4,
 "nbformat_minor": 5
}
